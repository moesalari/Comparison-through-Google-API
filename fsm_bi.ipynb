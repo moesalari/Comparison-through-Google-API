{
 "cells": [
  {
   "cell_type": "code",
   "execution_count": 1,
   "metadata": {},
   "outputs": [],
   "source": [
    "import pandas as pd\n",
    "import os \n",
    "import re"
   ]
  },
  {
   "cell_type": "code",
   "execution_count": 2,
   "metadata": {},
   "outputs": [],
   "source": [
    "def ft_field_transformation(field_name):\n",
    "    field_name = re.sub(\"(_{2})\", '_', field_name)\n",
    "    # matches = re.finditer('.+?(?:(?<=[a-z])(?=[A-Z])|(?<=[A-Z])(?=[A-Z][a-z])|$)', field_name)\n",
    "    matches = re.finditer('.+?(?:(?<=[a-z])(?=[A-Z])|'         # Small letter following by a capital letter\n",
    "                           # '(?<=[A-Z])(?=[A-Z][a-z])|'       # Capital letter following by 1-Capital letter and then 2- Small letter Note: at this time fivetran does not support this   \n",
    "                          '(?<=[0-9])(?=([a-z])|([A-Z]))|'     # Digit following by a letter either capital or small \n",
    "                          '(?<=([a-z])|([A-Z]))(?=[0-9])|'     # A letter following by digit \n",
    "                          '$)', field_name)\n",
    "    string_in_list = [m.group(0) for m in matches]\n",
    "    return '_'.join(string_in_list).lower()"
   ]
  },
  {
   "cell_type": "code",
   "execution_count": 34,
   "metadata": {},
   "outputs": [],
   "source": [
    "def bi_fsm_join(bi_df,fsm_df):\n",
    "    fsm_df.rename(columns = {\"Field Name\": \"fsm_field_name\", \"Table Name\": \"fsm_table_name\"},inplace = True)\n",
    "    fsm_df['bi_field_name'] = fsm_df['fsm_field_name'].apply(ft_field_transformation) \n",
    "    fsm_df['bi_table_name'] = fsm_df['fsm_table_name'].apply(ft_field_transformation) \n",
    "    bi_df.rename(columns = {'Type':'bi_dataflow_type'},inplace = True)\n",
    "    merge_dfs = pd.merge(bi_df,fsm_df,left_on=['Field Name','Table Name'], right_on = ['bi_field_name','bi_table_name'],how = 'left')\n",
    "    return merge_dfs "
   ]
  },
  {
   "cell_type": "code",
   "execution_count": 35,
   "metadata": {},
   "outputs": [],
   "source": [
    "fsm_df = pd.read_csv('C:\\\\Users\\\\moe.salari\\\\Data Dictionary - Account.csv')\n",
    "bi_df = pd.read_csv('C:\\\\Users\\\\moe.salari\\\\Book1.csv')"
   ]
  }
 ],
 "metadata": {
  "kernelspec": {
   "display_name": "Python 3",
   "language": "python",
   "name": "python3"
  },
  "language_info": {
   "codemirror_mode": {
    "name": "ipython",
    "version": 3
   },
   "file_extension": ".py",
   "mimetype": "text/x-python",
   "name": "python",
   "nbconvert_exporter": "python",
   "pygments_lexer": "ipython3",
   "version": "3.7.4"
  }
 },
 "nbformat": 4,
 "nbformat_minor": 2
}
